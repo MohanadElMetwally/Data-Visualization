{
 "cells": [
  {
   "cell_type": "code",
   "execution_count": 1,
   "metadata": {},
   "outputs": [],
   "source": [
    "# file = 'read.file.csv'\n",
    "#extension_index = file.lstrip('.')\n",
    "# print(file.lstrip(\".\").lower())"
   ]
  },
  {
   "cell_type": "code",
   "execution_count": 2,
   "metadata": {},
   "outputs": [],
   "source": [
    "import os\n",
    "import sys\n",
    "\n",
    "root = os.path.dirname(os.path.abspath(\".\"))\n",
    "sys.path.append(root)"
   ]
  },
  {
   "cell_type": "code",
   "execution_count": 3,
   "metadata": {},
   "outputs": [],
   "source": [
    "# from data_loader import KaggleFile\n",
    "# KaggleFile.set_credentials(username='mohanadelmetwally',key= 'fbd30844ea3c1551735fe5a88926e20a')\n",
    "# KaggleFile.download_kaggle_dataset(url = 'https://www.kaggle.com/datasets/gauravduttakiit/weather-in-aus', dry_run=False)"
   ]
  },
  {
   "cell_type": "code",
   "execution_count": 4,
   "metadata": {},
   "outputs": [],
   "source": [
    "# import customtkinter as ctk\n",
    "\n",
    "# root = ctk.CTk()\n",
    "# root.geometry('300x200')\n",
    "# screen_width = root.winfo_screenwidth()  # Width of the screen\n",
    "# screen_height = root.winfo_screenheight() # Height of the screen\n",
    "\n",
    "# # Calculate Starting X and Y coordinates for Window\n",
    "# x = (screen_width/2) - (300/2) - 50\n",
    "# y = (screen_height/2) - (200/2) - 50\n",
    "\n",
    "# root.geometry('%dx%d+%d+%d' % (300, 200, x, y))\n",
    "# root.title(\"Enter Kaggle Credentials\")\n",
    "# root.resizable(False, False)\n",
    "# # Label with clear instructions\n",
    "# instruction_label = ctk.CTkLabel(master=root, text=\"Enter your Kaggle credentials:\")\n",
    "# instruction_label.place(x = 10, y=10)\n",
    "\n",
    "# # Entry widgets with placeholders\n",
    "# username_label = ctk.CTkLabel(master=root, text=\"Username\")\n",
    "# username_label.place(x= 10, y= 50)\n",
    "# username_entry = ctk.CTkEntry(master=root, width=200)\n",
    "# username_entry.place(x = 80, y= 50)\n",
    "\n",
    "# key_label = ctk.CTkLabel(master=root, text=\"Kaggle Key\")\n",
    "# key_label.place(x = 10, y= 90)\n",
    "# key_entry = ctk.CTkEntry(master=root, width= 200, show= '*')\n",
    "# key_entry.place(x = 80, y= 90)\n",
    "\n",
    "# # # Save button with secure handling\n",
    "# save_button = ctk.CTkButton(master=root, \n",
    "#                             text=\"Save\", \n",
    "#                             command= KaggleFile.set_credentials(username_entry.get(), key_entry.get()))\n",
    "# save_button.place(x = 80 , y= 150)\n",
    "\n",
    "# root.mainloop()"
   ]
  },
  {
   "cell_type": "code",
   "execution_count": 5,
   "metadata": {},
   "outputs": [],
   "source": [
    "# import customtkinter as ctk\n",
    "# from tkinter import messagebox\n",
    "# from data_loader import KaggleFile\n",
    "\n",
    "# class CredentialsWindow(ctk.CTk):\n",
    "#     def __init__(self) -> None:\n",
    "#         super().__init__()\n",
    "#         self.username = None\n",
    "#         self.key = None\n",
    "#         self.ask_credentials()\n",
    "#         self.mainloop()\n",
    "\n",
    "#     def ask_credentials(self) -> None:\n",
    "#         screen_width = self.winfo_screenwidth()  \n",
    "#         screen_height = self.winfo_screenheight()\n",
    "\n",
    "#         x = (screen_width/2) - (300/2) - 50\n",
    "#         y = (screen_height/2) - (200/2) - 50\n",
    "\n",
    "#         self.geometry('%dx%d+%d+%d' % (300, 200, x, y))\n",
    "#         self.title(\"Enter Kaggle Credentials\")\n",
    "#         self.resizable(False, False)\n",
    "\n",
    "#         # Label with clear instructions\n",
    "#         self.instruction_label = ctk.CTkLabel(master=self, text=\"Enter your Kaggle credentials:\")\n",
    "#         self.instruction_label.place(x = 10, y=10)\n",
    "\n",
    "#         # Entry widgets with placeholders\n",
    "#         self.username_label = ctk.CTkLabel(master=self, text=\"Username\")\n",
    "#         self.username_label.place(x= 10, y= 50)\n",
    "#         self.username_entry = ctk.CTkEntry(master=self, width=200)\n",
    "#         self.username_entry.place(x = 80, y= 50)\n",
    "\n",
    "#         self.key_label = ctk.CTkLabel(master=self, text=\"Kaggle Key\")\n",
    "#         self.key_label.place(x = 10, y= 90)\n",
    "#         self.key_entry = ctk.CTkEntry(master=self, width= 200, show= '*')\n",
    "#         self.key_entry.place(x = 80, y= 90)\n",
    "\n",
    "#         # # Save button with secure handling\n",
    "#         self.save_button = ctk.CTkButton(master=self, \n",
    "#                                     text=\"Save\", \n",
    "#                                     command= self.save_information)\n",
    "#         self.save_button.place(x = 80 , y= 150)\n",
    "#         self.mainloop()\n",
    "\n",
    "#     def save_information(self):\n",
    "#         self.username = self.username_entry.get()\n",
    "#         self.key = self.key_entry.get()\n",
    "\n",
    "#         if self.username and self.key:\n",
    "#             try:\n",
    "#                 KaggleFile.set_credentials(self.username, self.key)\n",
    "#                 messagebox.showinfo(\"Success!\", \"Credentials saved successfully.\")\n",
    "#                 self.destroy()  # Close window if successful\n",
    "#             except Exception as e:\n",
    "#                 messagebox.showinfo(\"Error\", f\"An error occurred: {e}\")\n",
    "#         else:\n",
    "#             messagebox.showinfo(\"Value Error\", \"Username or Key is incorrect!\")\n",
    "\n",
    "# CredentialsWindow().mainloop()\n"
   ]
  },
  {
   "cell_type": "code",
   "execution_count": 6,
   "metadata": {},
   "outputs": [],
   "source": [
    "# from data_loader import File\n",
    "\n",
    "# fe = File().read('D:/Projects/ML projects/Data Visualization/data_visualization/example/heart-disease.csv')\n",
    "# fe"
   ]
  },
  {
   "cell_type": "code",
   "execution_count": 7,
   "metadata": {},
   "outputs": [],
   "source": [
    "# fe.nunique()"
   ]
  },
  {
   "cell_type": "code",
   "execution_count": 8,
   "metadata": {},
   "outputs": [],
   "source": [
    "# import seaborn as sns\n",
    "# import matplotlib.pyplot as plt\n",
    "\n",
    "# plt.figure(figsize=(15,8))\n",
    "\n",
    "# sns.countplot(data=fe, x='sex')\n",
    "\n",
    "# plt.show()"
   ]
  },
  {
   "cell_type": "code",
   "execution_count": 9,
   "metadata": {},
   "outputs": [],
   "source": [
    "# from plot_types import Plots\n",
    "\n",
    "# p = Plots('countplot')"
   ]
  },
  {
   "cell_type": "code",
   "execution_count": 10,
   "metadata": {},
   "outputs": [],
   "source": [
    "# p.plot(data= fe, x = 'sex')"
   ]
  },
  {
   "cell_type": "code",
   "execution_count": 11,
   "metadata": {},
   "outputs": [],
   "source": [
    "from window.Window import DataVisualizationWindow\n",
    "\n",
    "\n",
    "app = DataVisualizationWindow()\n",
    "\n",
    "app.mainloop()"
   ]
  },
  {
   "cell_type": "code",
   "execution_count": 12,
   "metadata": {},
   "outputs": [],
   "source": [
    "# from seaborn import barplot\n",
    "# import pandas as pd\n",
    "\n",
    "# df = pd.read_csv('Customer_Churn_Modelling.csv')\n",
    "\n",
    "# barplot(data= df, x= 'Age', y='CreditScore', hue= 'Gender')"
   ]
  },
  {
   "cell_type": "code",
   "execution_count": 13,
   "metadata": {},
   "outputs": [],
   "source": [
    "# from plot_types import Plots\n",
    "\n",
    "# Plots('Bar').plot(data= df, x= 'Age', y='CreditScore', hue= 'Gender')"
   ]
  },
  {
   "cell_type": "code",
   "execution_count": 14,
   "metadata": {},
   "outputs": [],
   "source": [
    "# from data_loader import File\n",
    "\n",
    "# folder_path = '../Datasets/'\n",
    "# url = \"https://www.kaggle.com/datasets/gauravduttakiit/weather-in-aus\"\n",
    "# folder_path += url.split('/')[-1]\n",
    "# downloaded_datasets_list = os.listdir(folder_path)\n",
    "# if len(downloaded_datasets_list) == 1:\n",
    "#     file_path = f'{folder_path}/{downloaded_datasets_list[0]}'\n",
    "#     df = File().read(file_path)\n",
    "\n",
    "# df"
   ]
  },
  {
   "cell_type": "code",
   "execution_count": null,
   "metadata": {},
   "outputs": [],
   "source": []
  }
 ],
 "metadata": {
  "kernelspec": {
   "display_name": ".venv",
   "language": "python",
   "name": "python3"
  },
  "language_info": {
   "codemirror_mode": {
    "name": "ipython",
    "version": 3
   },
   "file_extension": ".py",
   "mimetype": "text/x-python",
   "name": "python",
   "nbconvert_exporter": "python",
   "pygments_lexer": "ipython3",
   "version": "3.12.0"
  }
 },
 "nbformat": 4,
 "nbformat_minor": 2
}
